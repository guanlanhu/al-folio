{
  "nbformat": 4,
  "nbformat_minor": 0,
  "metadata": {
    "colab": {
      "provenance": [],
      "include_colab_link": true
    },
    "kernelspec": {
      "name": "python3",
      "display_name": "Python 3"
    }
  },
  "cells": [
    {
      "cell_type": "markdown",
      "metadata": {
        "id": "view-in-github",
        "colab_type": "text"
      },
      "source": [
        "<a href=\"https://colab.research.google.com/github/guanlanhu/al-folio/blob/master/Copy_of_Part_1_Finale_Text.ipynb\" target=\"_parent\"><img src=\"https://colab.research.google.com/assets/colab-badge.svg\" alt=\"Open In Colab\"/></a>"
      ]
    },
    {
      "cell_type": "code",
      "metadata": {
        "id": "LWJIj--o9zQz",
        "outputId": "d571cdec-b15c-4599-ab5a-959f3e4614ed",
        "colab": {
          "base_uri": "https://localhost:8080/",
          "height": 213
        }
      },
      "source": [
        "!pip install afinn"
      ],
      "execution_count": null,
      "outputs": [
        {
          "output_type": "stream",
          "text": [
            "Collecting afinn\n",
            "\u001b[?25l  Downloading https://files.pythonhosted.org/packages/86/e5/ffbb7ee3cca21ac6d310ac01944fb163c20030b45bda25421d725d8a859a/afinn-0.1.tar.gz (52kB)\n",
            "\u001b[K     |████████████████████████████████| 61kB 1.3MB/s \n",
            "\u001b[?25hBuilding wheels for collected packages: afinn\n",
            "  Building wheel for afinn (setup.py) ... \u001b[?25l\u001b[?25hdone\n",
            "  Created wheel for afinn: filename=afinn-0.1-cp36-none-any.whl size=53453 sha256=61123efc88008290820f8d4b02ec89a2eadb8426d4fe859f4708be8571b91467\n",
            "  Stored in directory: /root/.cache/pip/wheels/b5/1c/de/428301f3333ca509dcf20ff358690eb23a1388fbcbbde008b2\n",
            "Successfully built afinn\n",
            "Installing collected packages: afinn\n",
            "Successfully installed afinn-0.1\n"
          ],
          "name": "stdout"
        }
      ]
    },
    {
      "cell_type": "code",
      "metadata": {
        "id": "FRmvC2wt93yZ"
      },
      "source": [
        "import pandas as pd\n",
        "from afinn import Afinn"
      ],
      "execution_count": null,
      "outputs": []
    },
    {
      "cell_type": "code",
      "metadata": {
        "id": "gEApFTcV-gMA"
      },
      "source": [
        "reviews_df = pd.read_csv('https://penn-cis545-files.s3.amazonaws.com/GrammarandProductReviews.csv')"
      ],
      "execution_count": null,
      "outputs": []
    },
    {
      "cell_type": "code",
      "metadata": {
        "id": "73iKw1JI-nXF",
        "outputId": "d24b0c0c-69d4-4ebe-aa1c-cd6faa0d7bcb",
        "colab": {
          "base_uri": "https://localhost:8080/",
          "height": 1000
        }
      },
      "source": [
        "food_df = reviews_df[reviews_df['categories'].apply(lambda x: 'Food,' in x)]\n",
        "\n",
        "food_df"
      ],
      "execution_count": null,
      "outputs": [
        {
          "output_type": "execute_result",
          "data": {
            "text/html": [
              "<div>\n",
              "<style scoped>\n",
              "    .dataframe tbody tr th:only-of-type {\n",
              "        vertical-align: middle;\n",
              "    }\n",
              "\n",
              "    .dataframe tbody tr th {\n",
              "        vertical-align: top;\n",
              "    }\n",
              "\n",
              "    .dataframe thead th {\n",
              "        text-align: right;\n",
              "    }\n",
              "</style>\n",
              "<table border=\"1\" class=\"dataframe\">\n",
              "  <thead>\n",
              "    <tr style=\"text-align: right;\">\n",
              "      <th></th>\n",
              "      <th>id</th>\n",
              "      <th>brand</th>\n",
              "      <th>categories</th>\n",
              "      <th>dateAdded</th>\n",
              "      <th>dateUpdated</th>\n",
              "      <th>ean</th>\n",
              "      <th>keys</th>\n",
              "      <th>manufacturer</th>\n",
              "      <th>manufacturerNumber</th>\n",
              "      <th>name</th>\n",
              "      <th>reviews.date</th>\n",
              "      <th>reviews.dateAdded</th>\n",
              "      <th>reviews.dateSeen</th>\n",
              "      <th>reviews.didPurchase</th>\n",
              "      <th>reviews.doRecommend</th>\n",
              "      <th>reviews.id</th>\n",
              "      <th>reviews.numHelpful</th>\n",
              "      <th>reviews.rating</th>\n",
              "      <th>reviews.sourceURLs</th>\n",
              "      <th>reviews.text</th>\n",
              "      <th>reviews.title</th>\n",
              "      <th>reviews.userCity</th>\n",
              "      <th>reviews.userProvince</th>\n",
              "      <th>reviews.username</th>\n",
              "      <th>upc</th>\n",
              "    </tr>\n",
              "  </thead>\n",
              "  <tbody>\n",
              "    <tr>\n",
              "      <th>1</th>\n",
              "      <td>AV14LG0R-jtxr-f38QfS</td>\n",
              "      <td>Lundberg</td>\n",
              "      <td>Food,Packaged Foods,Snacks,Crackers,Snacks, Co...</td>\n",
              "      <td>2017-07-25T05:16:03Z</td>\n",
              "      <td>2018-02-05T11:27:45Z</td>\n",
              "      <td>73416000391</td>\n",
              "      <td>lundbergorganiccinnamontoastricecakes/b000fvzw...</td>\n",
              "      <td>Lundberg</td>\n",
              "      <td>574764</td>\n",
              "      <td>Lundberg Organic Cinnamon Toast Rice Cakes</td>\n",
              "      <td>2017-07-09T00:00:00.000Z</td>\n",
              "      <td>2017-09-23T02:53:06Z</td>\n",
              "      <td>2017-09-16T09:45:00.000Z</td>\n",
              "      <td>True</td>\n",
              "      <td>NaN</td>\n",
              "      <td>100209113.0</td>\n",
              "      <td>NaN</td>\n",
              "      <td>5</td>\n",
              "      <td>https://www.walmart.com/reviews/product/29775278</td>\n",
              "      <td>Good flavor. This review was collected as part...</td>\n",
              "      <td>Good</td>\n",
              "      <td>NaN</td>\n",
              "      <td>NaN</td>\n",
              "      <td>Dorothy W</td>\n",
              "      <td>73416000391</td>\n",
              "    </tr>\n",
              "    <tr>\n",
              "      <th>2</th>\n",
              "      <td>AV14LG0R-jtxr-f38QfS</td>\n",
              "      <td>Lundberg</td>\n",
              "      <td>Food,Packaged Foods,Snacks,Crackers,Snacks, Co...</td>\n",
              "      <td>2017-07-25T05:16:03Z</td>\n",
              "      <td>2018-02-05T11:27:45Z</td>\n",
              "      <td>73416000391</td>\n",
              "      <td>lundbergorganiccinnamontoastricecakes/b000fvzw...</td>\n",
              "      <td>Lundberg</td>\n",
              "      <td>574764</td>\n",
              "      <td>Lundberg Organic Cinnamon Toast Rice Cakes</td>\n",
              "      <td>2017-07-09T00:00:00.000Z</td>\n",
              "      <td>2017-09-06T04:49:31Z</td>\n",
              "      <td>2017-08-23T10:37:00.000Z</td>\n",
              "      <td>True</td>\n",
              "      <td>NaN</td>\n",
              "      <td>100209113.0</td>\n",
              "      <td>NaN</td>\n",
              "      <td>5</td>\n",
              "      <td>https://www.walmart.com/reviews/product/29775278</td>\n",
              "      <td>Good flavor.</td>\n",
              "      <td>Good</td>\n",
              "      <td>NaN</td>\n",
              "      <td>NaN</td>\n",
              "      <td>Dorothy W</td>\n",
              "      <td>73416000391</td>\n",
              "    </tr>\n",
              "    <tr>\n",
              "      <th>1055</th>\n",
              "      <td>AV1YIch7GV-KLJ3addeG</td>\n",
              "      <td>Heinz</td>\n",
              "      <td>Food,Packaged Foods,Condiments, Dips, &amp; Salad ...</td>\n",
              "      <td>2017-07-18T23:56:35Z</td>\n",
              "      <td>2018-02-05T11:26:35Z</td>\n",
              "      <td>13000004664</td>\n",
              "      <td>heinztomatoketchup38oz/b00b0yhrc4,013000004664...</td>\n",
              "      <td>Heinz North America</td>\n",
              "      <td>13400436</td>\n",
              "      <td>Heinz Tomato Ketchup, 38oz</td>\n",
              "      <td>2016-09-17T04:03:16.000Z</td>\n",
              "      <td>2018-01-28T15:28:59Z</td>\n",
              "      <td>2018-01-26T05:42:00.000Z,2018-01-09T09:05:00.0...</td>\n",
              "      <td>NaN</td>\n",
              "      <td>True</td>\n",
              "      <td>NaN</td>\n",
              "      <td>1.0</td>\n",
              "      <td>5</td>\n",
              "      <td>https://redsky.target.com/groot-domain-api/v1/...</td>\n",
              "      <td>I consider myself a ketchup snob. I'll pass on...</td>\n",
              "      <td>Ketchup Is Awesome</td>\n",
              "      <td>NaN</td>\n",
              "      <td>NaN</td>\n",
              "      <td>Raenicson</td>\n",
              "      <td>13000004664</td>\n",
              "    </tr>\n",
              "    <tr>\n",
              "      <th>1056</th>\n",
              "      <td>AV1YlENIglJLPUi8IHsX</td>\n",
              "      <td>KIND</td>\n",
              "      <td>Food,Packaged Foods,Snacks,Cereal Bars and Gra...</td>\n",
              "      <td>2017-07-19T02:01:37Z</td>\n",
              "      <td>2018-02-05T11:26:49Z</td>\n",
              "      <td>6.02652E+11</td>\n",
              "      <td>602652184024,kind/15027059,darkchocolatechunkg...</td>\n",
              "      <td>Kind Fruit &amp; Nut Bars</td>\n",
              "      <td>15027059</td>\n",
              "      <td>Kind Dark Chocolate Chunk Gluten Free Granola ...</td>\n",
              "      <td>2016-09-23T00:00:00.000Z</td>\n",
              "      <td>2017-09-27T13:10:01Z</td>\n",
              "      <td>2017-09-10T04:08:04.737Z,2017-09-16T11:53:16.6...</td>\n",
              "      <td>True</td>\n",
              "      <td>False</td>\n",
              "      <td>104821113.0</td>\n",
              "      <td>0.0</td>\n",
              "      <td>1</td>\n",
              "      <td>https://www.walmart.com/reviews/product/34202687</td>\n",
              "      <td>Buyer beware, these taste like 55, nothing eve...</td>\n",
              "      <td>definetaly not a granola bar</td>\n",
              "      <td>NaN</td>\n",
              "      <td>NaN</td>\n",
              "      <td>walmartian</td>\n",
              "      <td>6.02652E+11</td>\n",
              "    </tr>\n",
              "    <tr>\n",
              "      <th>1057</th>\n",
              "      <td>AV1YlENIglJLPUi8IHsX</td>\n",
              "      <td>KIND</td>\n",
              "      <td>Food,Packaged Foods,Snacks,Cereal Bars and Gra...</td>\n",
              "      <td>2017-07-19T02:01:37Z</td>\n",
              "      <td>2018-02-05T11:26:49Z</td>\n",
              "      <td>6.02652E+11</td>\n",
              "      <td>602652184024,kind/15027059,darkchocolatechunkg...</td>\n",
              "      <td>Kind Fruit &amp; Nut Bars</td>\n",
              "      <td>15027059</td>\n",
              "      <td>Kind Dark Chocolate Chunk Gluten Free Granola ...</td>\n",
              "      <td>2014-07-10T00:00:00.000Z</td>\n",
              "      <td>2017-09-27T13:10:01Z</td>\n",
              "      <td>2017-09-10T04:08:04.737Z,2017-09-16T11:53:16.6...</td>\n",
              "      <td>True</td>\n",
              "      <td>False</td>\n",
              "      <td>33383690.0</td>\n",
              "      <td>0.0</td>\n",
              "      <td>2</td>\n",
              "      <td>https://www.walmart.com/reviews/product/34202687</td>\n",
              "      <td>Not being a Kind Bar aficionado, I didn't know...</td>\n",
              "      <td>They were okay</td>\n",
              "      <td>NaN</td>\n",
              "      <td>NaN</td>\n",
              "      <td>LaurieB4041</td>\n",
              "      <td>6.02652E+11</td>\n",
              "    </tr>\n",
              "    <tr>\n",
              "      <th>...</th>\n",
              "      <td>...</td>\n",
              "      <td>...</td>\n",
              "      <td>...</td>\n",
              "      <td>...</td>\n",
              "      <td>...</td>\n",
              "      <td>...</td>\n",
              "      <td>...</td>\n",
              "      <td>...</td>\n",
              "      <td>...</td>\n",
              "      <td>...</td>\n",
              "      <td>...</td>\n",
              "      <td>...</td>\n",
              "      <td>...</td>\n",
              "      <td>...</td>\n",
              "      <td>...</td>\n",
              "      <td>...</td>\n",
              "      <td>...</td>\n",
              "      <td>...</td>\n",
              "      <td>...</td>\n",
              "      <td>...</td>\n",
              "      <td>...</td>\n",
              "      <td>...</td>\n",
              "      <td>...</td>\n",
              "      <td>...</td>\n",
              "      <td>...</td>\n",
              "    </tr>\n",
              "    <tr>\n",
              "      <th>68474</th>\n",
              "      <td>AVq5UzjHU2_QcyX9O584</td>\n",
              "      <td>Nutri-Grain</td>\n",
              "      <td>Food,Packaged Foods,Snacks,Cereal Bars and Gra...</td>\n",
              "      <td>2017-03-10T17:45:23Z</td>\n",
              "      <td>2018-02-05T11:28:54Z</td>\n",
              "      <td>38000355004</td>\n",
              "      <td>nutrigraincerealbarsmixedberry8ct/b000aydhaq,0...</td>\n",
              "      <td>Nutri-Grain</td>\n",
              "      <td>12992472</td>\n",
              "      <td>Nutrigrain Cereal Bars, Mixed Berry, 8 Ct.</td>\n",
              "      <td>2015-10-31T00:00:00.000Z</td>\n",
              "      <td>2017-08-15T02:56:46Z</td>\n",
              "      <td>2017-08-06T16:09:00.000Z</td>\n",
              "      <td>False</td>\n",
              "      <td>True</td>\n",
              "      <td>68337917.0</td>\n",
              "      <td>0.0</td>\n",
              "      <td>5</td>\n",
              "      <td>https://www.walmart.com/reviews/product/108186...</td>\n",
              "      <td>Love this product! I buy it all the time.</td>\n",
              "      <td>Nutri grain</td>\n",
              "      <td>NaN</td>\n",
              "      <td>NaN</td>\n",
              "      <td>Tammie</td>\n",
              "      <td>38,000,355,004,490,700,000,000</td>\n",
              "    </tr>\n",
              "    <tr>\n",
              "      <th>70252</th>\n",
              "      <td>AVsRL7C9U2_QcyX9PFuJ</td>\n",
              "      <td>Skittles</td>\n",
              "      <td>Food &amp; Beverage,Candy &amp; Gum,Gummy &amp; Chewy Cand...</td>\n",
              "      <td>2017-03-27T19:13:09Z</td>\n",
              "      <td>2018-01-30T06:11:23Z</td>\n",
              "      <td>22000123701</td>\n",
              "      <td>022000123701,0022000123701,skittlesoriginalcan...</td>\n",
              "      <td>Skittles</td>\n",
              "      <td>14709696</td>\n",
              "      <td>Skittles Original Candy Bag - 9oz</td>\n",
              "      <td>2017-05-12T23:38:12.000Z</td>\n",
              "      <td>2018-01-30T06:11:14Z</td>\n",
              "      <td>2018-01-09T19:11:00.000Z,2018-01-21T07:25:00.0...</td>\n",
              "      <td>NaN</td>\n",
              "      <td>NaN</td>\n",
              "      <td>NaN</td>\n",
              "      <td>NaN</td>\n",
              "      <td>1</td>\n",
              "      <td>https://redsky.target.com/groot-domain-api/v1/...</td>\n",
              "      <td>Skittles needs to bring back the lime or take ...</td>\n",
              "      <td>Where's The Lime At</td>\n",
              "      <td>Virginia Beach</td>\n",
              "      <td>NaN</td>\n",
              "      <td>Hails</td>\n",
              "      <td>22000123701</td>\n",
              "    </tr>\n",
              "    <tr>\n",
              "      <th>70253</th>\n",
              "      <td>AVsRL7C9U2_QcyX9PFuJ</td>\n",
              "      <td>Skittles</td>\n",
              "      <td>Food &amp; Beverage,Candy &amp; Gum,Gummy &amp; Chewy Cand...</td>\n",
              "      <td>2017-03-27T19:13:09Z</td>\n",
              "      <td>2018-01-30T06:11:23Z</td>\n",
              "      <td>22000123701</td>\n",
              "      <td>022000123701,0022000123701,skittlesoriginalcan...</td>\n",
              "      <td>Skittles</td>\n",
              "      <td>14709696</td>\n",
              "      <td>Skittles Original Candy Bag - 9oz</td>\n",
              "      <td>2017-05-12T00:00:00.000Z</td>\n",
              "      <td>2017-09-20T11:04:36Z</td>\n",
              "      <td>2017-09-12T18:35:17.958Z</td>\n",
              "      <td>False</td>\n",
              "      <td>False</td>\n",
              "      <td>94372630.0</td>\n",
              "      <td>NaN</td>\n",
              "      <td>1</td>\n",
              "      <td>https://www.walmart.com/reviews/product/118276856</td>\n",
              "      <td>Skittles needs to bring back the lime or take ...</td>\n",
              "      <td>Where's the lime at</td>\n",
              "      <td>NaN</td>\n",
              "      <td>NaN</td>\n",
              "      <td>Hails</td>\n",
              "      <td>22000123701</td>\n",
              "    </tr>\n",
              "    <tr>\n",
              "      <th>70254</th>\n",
              "      <td>AVsRL7C9U2_QcyX9PFuJ</td>\n",
              "      <td>Skittles</td>\n",
              "      <td>Food &amp; Beverage,Candy &amp; Gum,Gummy &amp; Chewy Cand...</td>\n",
              "      <td>2017-03-27T19:13:09Z</td>\n",
              "      <td>2018-01-30T06:11:23Z</td>\n",
              "      <td>22000123701</td>\n",
              "      <td>022000123701,0022000123701,skittlesoriginalcan...</td>\n",
              "      <td>Skittles</td>\n",
              "      <td>14709696</td>\n",
              "      <td>Skittles Original Candy Bag - 9oz</td>\n",
              "      <td>2017-05-07T00:00:00.000Z</td>\n",
              "      <td>2017-09-20T11:04:36Z</td>\n",
              "      <td>2017-09-12T18:35:17.958Z</td>\n",
              "      <td>True</td>\n",
              "      <td>True</td>\n",
              "      <td>94718519.0</td>\n",
              "      <td>NaN</td>\n",
              "      <td>5</td>\n",
              "      <td>https://www.walmart.com/reviews/product/118276856</td>\n",
              "      <td>Love them This review was collected as part of...</td>\n",
              "      <td>tangy</td>\n",
              "      <td>NaN</td>\n",
              "      <td>NaN</td>\n",
              "      <td>Joanna b</td>\n",
              "      <td>22000123701</td>\n",
              "    </tr>\n",
              "    <tr>\n",
              "      <th>70255</th>\n",
              "      <td>AVsRL7C9U2_QcyX9PFuJ</td>\n",
              "      <td>Skittles</td>\n",
              "      <td>Food &amp; Beverage,Candy &amp; Gum,Gummy &amp; Chewy Cand...</td>\n",
              "      <td>2017-03-27T19:13:09Z</td>\n",
              "      <td>2018-01-30T06:11:23Z</td>\n",
              "      <td>22000123701</td>\n",
              "      <td>022000123701,0022000123701,skittlesoriginalcan...</td>\n",
              "      <td>Skittles</td>\n",
              "      <td>14709696</td>\n",
              "      <td>Skittles Original Candy Bag - 9oz</td>\n",
              "      <td>2017-04-26T00:00:00.000Z</td>\n",
              "      <td>2017-09-20T11:04:36Z</td>\n",
              "      <td>2017-09-12T18:35:17.958Z</td>\n",
              "      <td>True</td>\n",
              "      <td>True</td>\n",
              "      <td>91877068.0</td>\n",
              "      <td>NaN</td>\n",
              "      <td>5</td>\n",
              "      <td>https://www.walmart.com/reviews/product/118276856</td>\n",
              "      <td>If it was good enough for E.T. then it's good ...</td>\n",
              "      <td>Great Candy</td>\n",
              "      <td>NaN</td>\n",
              "      <td>NaN</td>\n",
              "      <td>TheHappyCook</td>\n",
              "      <td>22000123701</td>\n",
              "    </tr>\n",
              "  </tbody>\n",
              "</table>\n",
              "<p>2776 rows × 25 columns</p>\n",
              "</div>"
            ],
            "text/plain": [
              "                         id  ...                             upc\n",
              "1      AV14LG0R-jtxr-f38QfS  ...                     73416000391\n",
              "2      AV14LG0R-jtxr-f38QfS  ...                     73416000391\n",
              "1055   AV1YIch7GV-KLJ3addeG  ...                     13000004664\n",
              "1056   AV1YlENIglJLPUi8IHsX  ...                     6.02652E+11\n",
              "1057   AV1YlENIglJLPUi8IHsX  ...                     6.02652E+11\n",
              "...                     ...  ...                             ...\n",
              "68474  AVq5UzjHU2_QcyX9O584  ...  38,000,355,004,490,700,000,000\n",
              "70252  AVsRL7C9U2_QcyX9PFuJ  ...                     22000123701\n",
              "70253  AVsRL7C9U2_QcyX9PFuJ  ...                     22000123701\n",
              "70254  AVsRL7C9U2_QcyX9PFuJ  ...                     22000123701\n",
              "70255  AVsRL7C9U2_QcyX9PFuJ  ...                     22000123701\n",
              "\n",
              "[2776 rows x 25 columns]"
            ]
          },
          "metadata": {
            "tags": []
          },
          "execution_count": 23
        }
      ]
    },
    {
      "cell_type": "code",
      "metadata": {
        "id": "nEOEBFr0-pP9",
        "outputId": "0658c786-7578-4d45-e53a-8ca8457036e8",
        "colab": {
          "base_uri": "https://localhost:8080/",
          "height": 537
        }
      },
      "source": [
        "reviews_text_df = food_df[['manufacturer','manufacturerNumber','name','reviews.text']].copy()\n",
        "\n",
        "reviews_text_df"
      ],
      "execution_count": null,
      "outputs": [
        {
          "output_type": "execute_result",
          "data": {
            "text/html": [
              "<div>\n",
              "<style scoped>\n",
              "    .dataframe tbody tr th:only-of-type {\n",
              "        vertical-align: middle;\n",
              "    }\n",
              "\n",
              "    .dataframe tbody tr th {\n",
              "        vertical-align: top;\n",
              "    }\n",
              "\n",
              "    .dataframe thead th {\n",
              "        text-align: right;\n",
              "    }\n",
              "</style>\n",
              "<table border=\"1\" class=\"dataframe\">\n",
              "  <thead>\n",
              "    <tr style=\"text-align: right;\">\n",
              "      <th></th>\n",
              "      <th>manufacturer</th>\n",
              "      <th>manufacturerNumber</th>\n",
              "      <th>name</th>\n",
              "      <th>reviews.text</th>\n",
              "    </tr>\n",
              "  </thead>\n",
              "  <tbody>\n",
              "    <tr>\n",
              "      <th>1</th>\n",
              "      <td>Lundberg</td>\n",
              "      <td>574764</td>\n",
              "      <td>Lundberg Organic Cinnamon Toast Rice Cakes</td>\n",
              "      <td>Good flavor. This review was collected as part...</td>\n",
              "    </tr>\n",
              "    <tr>\n",
              "      <th>2</th>\n",
              "      <td>Lundberg</td>\n",
              "      <td>574764</td>\n",
              "      <td>Lundberg Organic Cinnamon Toast Rice Cakes</td>\n",
              "      <td>Good flavor.</td>\n",
              "    </tr>\n",
              "    <tr>\n",
              "      <th>1055</th>\n",
              "      <td>Heinz North America</td>\n",
              "      <td>13400436</td>\n",
              "      <td>Heinz Tomato Ketchup, 38oz</td>\n",
              "      <td>I consider myself a ketchup snob. I'll pass on...</td>\n",
              "    </tr>\n",
              "    <tr>\n",
              "      <th>1056</th>\n",
              "      <td>Kind Fruit &amp; Nut Bars</td>\n",
              "      <td>15027059</td>\n",
              "      <td>Kind Dark Chocolate Chunk Gluten Free Granola ...</td>\n",
              "      <td>Buyer beware, these taste like 55, nothing eve...</td>\n",
              "    </tr>\n",
              "    <tr>\n",
              "      <th>1057</th>\n",
              "      <td>Kind Fruit &amp; Nut Bars</td>\n",
              "      <td>15027059</td>\n",
              "      <td>Kind Dark Chocolate Chunk Gluten Free Granola ...</td>\n",
              "      <td>Not being a Kind Bar aficionado, I didn't know...</td>\n",
              "    </tr>\n",
              "    <tr>\n",
              "      <th>...</th>\n",
              "      <td>...</td>\n",
              "      <td>...</td>\n",
              "      <td>...</td>\n",
              "      <td>...</td>\n",
              "    </tr>\n",
              "    <tr>\n",
              "      <th>68474</th>\n",
              "      <td>Nutri-Grain</td>\n",
              "      <td>12992472</td>\n",
              "      <td>Nutrigrain Cereal Bars, Mixed Berry, 8 Ct.</td>\n",
              "      <td>Love this product! I buy it all the time.</td>\n",
              "    </tr>\n",
              "    <tr>\n",
              "      <th>70252</th>\n",
              "      <td>Skittles</td>\n",
              "      <td>14709696</td>\n",
              "      <td>Skittles Original Candy Bag - 9oz</td>\n",
              "      <td>Skittles needs to bring back the lime or take ...</td>\n",
              "    </tr>\n",
              "    <tr>\n",
              "      <th>70253</th>\n",
              "      <td>Skittles</td>\n",
              "      <td>14709696</td>\n",
              "      <td>Skittles Original Candy Bag - 9oz</td>\n",
              "      <td>Skittles needs to bring back the lime or take ...</td>\n",
              "    </tr>\n",
              "    <tr>\n",
              "      <th>70254</th>\n",
              "      <td>Skittles</td>\n",
              "      <td>14709696</td>\n",
              "      <td>Skittles Original Candy Bag - 9oz</td>\n",
              "      <td>Love them This review was collected as part of...</td>\n",
              "    </tr>\n",
              "    <tr>\n",
              "      <th>70255</th>\n",
              "      <td>Skittles</td>\n",
              "      <td>14709696</td>\n",
              "      <td>Skittles Original Candy Bag - 9oz</td>\n",
              "      <td>If it was good enough for E.T. then it's good ...</td>\n",
              "    </tr>\n",
              "  </tbody>\n",
              "</table>\n",
              "<p>2776 rows × 4 columns</p>\n",
              "</div>"
            ],
            "text/plain": [
              "                manufacturer  ...                                       reviews.text\n",
              "1                   Lundberg  ...  Good flavor. This review was collected as part...\n",
              "2                   Lundberg  ...                                       Good flavor.\n",
              "1055     Heinz North America  ...  I consider myself a ketchup snob. I'll pass on...\n",
              "1056   Kind Fruit & Nut Bars  ...  Buyer beware, these taste like 55, nothing eve...\n",
              "1057   Kind Fruit & Nut Bars  ...  Not being a Kind Bar aficionado, I didn't know...\n",
              "...                      ...  ...                                                ...\n",
              "68474            Nutri-Grain  ...          Love this product! I buy it all the time.\n",
              "70252               Skittles  ...  Skittles needs to bring back the lime or take ...\n",
              "70253               Skittles  ...  Skittles needs to bring back the lime or take ...\n",
              "70254               Skittles  ...  Love them This review was collected as part of...\n",
              "70255               Skittles  ...  If it was good enough for E.T. then it's good ...\n",
              "\n",
              "[2776 rows x 4 columns]"
            ]
          },
          "metadata": {
            "tags": []
          },
          "execution_count": 28
        }
      ]
    },
    {
      "cell_type": "code",
      "metadata": {
        "id": "z-cUmSOK_iWE",
        "outputId": "925b0267-4c5b-4aaf-f875-19f83dce2b2f",
        "colab": {
          "base_uri": "https://localhost:8080/",
          "height": 105
        }
      },
      "source": [
        "reviews_text_df.dtypes"
      ],
      "execution_count": null,
      "outputs": [
        {
          "output_type": "execute_result",
          "data": {
            "text/plain": [
              "manufacturer          object\n",
              "manufacturerNumber    object\n",
              "name                  object\n",
              "reviews.text          object\n",
              "dtype: object"
            ]
          },
          "metadata": {
            "tags": []
          },
          "execution_count": 29
        }
      ]
    },
    {
      "cell_type": "code",
      "metadata": {
        "id": "cks1QEsv-2Gm"
      },
      "source": [
        "afinn = Afinn(language='en')\n",
        "\n",
        "reviews_text_df['score'] = reviews_text_df['reviews.text'].apply(afinn.score)"
      ],
      "execution_count": null,
      "outputs": []
    },
    {
      "cell_type": "code",
      "metadata": {
        "id": "4-dSnZqc_Gtb",
        "outputId": "d542878e-111a-49fc-c620-91a047c2e0eb",
        "colab": {
          "base_uri": "https://localhost:8080/",
          "height": 571
        }
      },
      "source": [
        "reviews_text_df"
      ],
      "execution_count": null,
      "outputs": [
        {
          "output_type": "execute_result",
          "data": {
            "text/html": [
              "<div>\n",
              "<style scoped>\n",
              "    .dataframe tbody tr th:only-of-type {\n",
              "        vertical-align: middle;\n",
              "    }\n",
              "\n",
              "    .dataframe tbody tr th {\n",
              "        vertical-align: top;\n",
              "    }\n",
              "\n",
              "    .dataframe thead th {\n",
              "        text-align: right;\n",
              "    }\n",
              "</style>\n",
              "<table border=\"1\" class=\"dataframe\">\n",
              "  <thead>\n",
              "    <tr style=\"text-align: right;\">\n",
              "      <th></th>\n",
              "      <th>manufacturer</th>\n",
              "      <th>manufacturerNumber</th>\n",
              "      <th>name</th>\n",
              "      <th>reviews.text</th>\n",
              "      <th>score</th>\n",
              "    </tr>\n",
              "  </thead>\n",
              "  <tbody>\n",
              "    <tr>\n",
              "      <th>1</th>\n",
              "      <td>Lundberg</td>\n",
              "      <td>574764</td>\n",
              "      <td>Lundberg Organic Cinnamon Toast Rice Cakes</td>\n",
              "      <td>Good flavor. This review was collected as part...</td>\n",
              "      <td>3.0</td>\n",
              "    </tr>\n",
              "    <tr>\n",
              "      <th>2</th>\n",
              "      <td>Lundberg</td>\n",
              "      <td>574764</td>\n",
              "      <td>Lundberg Organic Cinnamon Toast Rice Cakes</td>\n",
              "      <td>Good flavor.</td>\n",
              "      <td>3.0</td>\n",
              "    </tr>\n",
              "    <tr>\n",
              "      <th>1055</th>\n",
              "      <td>Heinz North America</td>\n",
              "      <td>13400436</td>\n",
              "      <td>Heinz Tomato Ketchup, 38oz</td>\n",
              "      <td>I consider myself a ketchup snob. I'll pass on...</td>\n",
              "      <td>0.0</td>\n",
              "    </tr>\n",
              "    <tr>\n",
              "      <th>1056</th>\n",
              "      <td>Kind Fruit &amp; Nut Bars</td>\n",
              "      <td>15027059</td>\n",
              "      <td>Kind Dark Chocolate Chunk Gluten Free Granola ...</td>\n",
              "      <td>Buyer beware, these taste like 55, nothing eve...</td>\n",
              "      <td>2.0</td>\n",
              "    </tr>\n",
              "    <tr>\n",
              "      <th>1057</th>\n",
              "      <td>Kind Fruit &amp; Nut Bars</td>\n",
              "      <td>15027059</td>\n",
              "      <td>Kind Dark Chocolate Chunk Gluten Free Granola ...</td>\n",
              "      <td>Not being a Kind Bar aficionado, I didn't know...</td>\n",
              "      <td>9.0</td>\n",
              "    </tr>\n",
              "    <tr>\n",
              "      <th>...</th>\n",
              "      <td>...</td>\n",
              "      <td>...</td>\n",
              "      <td>...</td>\n",
              "      <td>...</td>\n",
              "      <td>...</td>\n",
              "    </tr>\n",
              "    <tr>\n",
              "      <th>68474</th>\n",
              "      <td>Nutri-Grain</td>\n",
              "      <td>12992472</td>\n",
              "      <td>Nutrigrain Cereal Bars, Mixed Berry, 8 Ct.</td>\n",
              "      <td>Love this product! I buy it all the time.</td>\n",
              "      <td>3.0</td>\n",
              "    </tr>\n",
              "    <tr>\n",
              "      <th>70252</th>\n",
              "      <td>Skittles</td>\n",
              "      <td>14709696</td>\n",
              "      <td>Skittles Original Candy Bag - 9oz</td>\n",
              "      <td>Skittles needs to bring back the lime or take ...</td>\n",
              "      <td>0.0</td>\n",
              "    </tr>\n",
              "    <tr>\n",
              "      <th>70253</th>\n",
              "      <td>Skittles</td>\n",
              "      <td>14709696</td>\n",
              "      <td>Skittles Original Candy Bag - 9oz</td>\n",
              "      <td>Skittles needs to bring back the lime or take ...</td>\n",
              "      <td>0.0</td>\n",
              "    </tr>\n",
              "    <tr>\n",
              "      <th>70254</th>\n",
              "      <td>Skittles</td>\n",
              "      <td>14709696</td>\n",
              "      <td>Skittles Original Candy Bag - 9oz</td>\n",
              "      <td>Love them This review was collected as part of...</td>\n",
              "      <td>3.0</td>\n",
              "    </tr>\n",
              "    <tr>\n",
              "      <th>70255</th>\n",
              "      <td>Skittles</td>\n",
              "      <td>14709696</td>\n",
              "      <td>Skittles Original Candy Bag - 9oz</td>\n",
              "      <td>If it was good enough for E.T. then it's good ...</td>\n",
              "      <td>6.0</td>\n",
              "    </tr>\n",
              "  </tbody>\n",
              "</table>\n",
              "<p>2776 rows × 5 columns</p>\n",
              "</div>"
            ],
            "text/plain": [
              "                manufacturer  ... score\n",
              "1                   Lundberg  ...   3.0\n",
              "2                   Lundberg  ...   3.0\n",
              "1055     Heinz North America  ...   0.0\n",
              "1056   Kind Fruit & Nut Bars  ...   2.0\n",
              "1057   Kind Fruit & Nut Bars  ...   9.0\n",
              "...                      ...  ...   ...\n",
              "68474            Nutri-Grain  ...   3.0\n",
              "70252               Skittles  ...   0.0\n",
              "70253               Skittles  ...   0.0\n",
              "70254               Skittles  ...   3.0\n",
              "70255               Skittles  ...   6.0\n",
              "\n",
              "[2776 rows x 5 columns]"
            ]
          },
          "metadata": {
            "tags": []
          },
          "execution_count": 33
        }
      ]
    },
    {
      "cell_type": "code",
      "metadata": {
        "id": "aMQ9IkyjB6ZV",
        "outputId": "e866b032-1416-4a8c-9c28-99e964af74f1",
        "colab": {
          "base_uri": "https://localhost:8080/",
          "height": 175
        }
      },
      "source": [
        "reviews_text_df['score'].describe()"
      ],
      "execution_count": null,
      "outputs": [
        {
          "output_type": "execute_result",
          "data": {
            "text/plain": [
              "count    2776.000000\n",
              "mean        4.229467\n",
              "std         4.014336\n",
              "min       -10.000000\n",
              "25%         2.000000\n",
              "50%         3.000000\n",
              "75%         6.000000\n",
              "max        37.000000\n",
              "Name: score, dtype: float64"
            ]
          },
          "metadata": {
            "tags": []
          },
          "execution_count": 39
        }
      ]
    },
    {
      "cell_type": "code",
      "metadata": {
        "id": "VN1LAfSBBGt4",
        "outputId": "8a58d5fd-e6eb-43c7-fcd6-fb5bd98bdda8",
        "colab": {
          "base_uri": "https://localhost:8080/",
          "height": 500
        }
      },
      "source": [
        "reviews_text_df[['manufacturer','manufacturerNumber','name','score']].groupby(\n",
        "    by=['manufacturer','name','manufacturerNumber']).mean().sort_values(by='score')"
      ],
      "execution_count": null,
      "outputs": [
        {
          "output_type": "execute_result",
          "data": {
            "text/html": [
              "<div>\n",
              "<style scoped>\n",
              "    .dataframe tbody tr th:only-of-type {\n",
              "        vertical-align: middle;\n",
              "    }\n",
              "\n",
              "    .dataframe tbody tr th {\n",
              "        vertical-align: top;\n",
              "    }\n",
              "\n",
              "    .dataframe thead th {\n",
              "        text-align: right;\n",
              "    }\n",
              "</style>\n",
              "<table border=\"1\" class=\"dataframe\">\n",
              "  <thead>\n",
              "    <tr style=\"text-align: right;\">\n",
              "      <th></th>\n",
              "      <th></th>\n",
              "      <th></th>\n",
              "      <th>score</th>\n",
              "    </tr>\n",
              "    <tr>\n",
              "      <th>manufacturer</th>\n",
              "      <th>name</th>\n",
              "      <th>manufacturerNumber</th>\n",
              "      <th></th>\n",
              "    </tr>\n",
              "  </thead>\n",
              "  <tbody>\n",
              "    <tr>\n",
              "      <th>Horizon Organic</th>\n",
              "      <th>Horizon174 Organic Unsalted Butter - 1lbs</th>\n",
              "      <th>14729221</th>\n",
              "      <td>-8.000000</td>\n",
              "    </tr>\n",
              "    <tr>\n",
              "      <th>Ortega</th>\n",
              "      <th>Ortega Thick &amp; Chunky Mild Salsa</th>\n",
              "      <th>00G6ICL6V5KH315</th>\n",
              "      <td>-1.000000</td>\n",
              "    </tr>\n",
              "    <tr>\n",
              "      <th>Unilever</th>\n",
              "      <th>Klondike Choco Tacos Original</th>\n",
              "      <th>13752636</th>\n",
              "      <td>-1.000000</td>\n",
              "    </tr>\n",
              "    <tr>\n",
              "      <th>Heinz North America</th>\n",
              "      <th>Heinz Tomato Ketchup, 38oz</th>\n",
              "      <th>13400436</th>\n",
              "      <td>0.000000</td>\n",
              "    </tr>\n",
              "    <tr>\n",
              "      <th>Newman's Own, Inc.</th>\n",
              "      <th>Newman's Own Beef &amp; Broccoli Complete Skillet Meal</th>\n",
              "      <th>14802441</th>\n",
              "      <td>0.000000</td>\n",
              "    </tr>\n",
              "    <tr>\n",
              "      <th>...</th>\n",
              "      <th>...</th>\n",
              "      <th>...</th>\n",
              "      <td>...</td>\n",
              "    </tr>\n",
              "    <tr>\n",
              "      <th>Season</th>\n",
              "      <th>Season Seafood Sardine Fillets In Sweet &amp; Tangy Sauce</th>\n",
              "      <th>0066ISHKOJT9CJ6</th>\n",
              "      <td>8.000000</td>\n",
              "    </tr>\n",
              "    <tr>\n",
              "      <th>Unilever</th>\n",
              "      <th>Ben &amp; Jerry's Coffee, Coffee Buzzbuzzbuzz! Ice Cream, Pint</th>\n",
              "      <th>15004292</th>\n",
              "      <td>8.454545</td>\n",
              "    </tr>\n",
              "    <tr>\n",
              "      <th>Dreyer's Grand Ice Cream/Nestle Ice Cream Company</th>\n",
              "      <th>Haagen-Dazs Gelato, Sea Salt Caramel</th>\n",
              "      <th>14936473</th>\n",
              "      <td>8.500000</td>\n",
              "    </tr>\n",
              "    <tr>\n",
              "      <th>Unfi</th>\n",
              "      <th>Noosa Honey Yogurt</th>\n",
              "      <th>109078-6</th>\n",
              "      <td>9.000000</td>\n",
              "    </tr>\n",
              "    <tr>\n",
              "      <th>NURTURE INC</th>\n",
              "      <th>Happy Tot Apple and Butternut Squash</th>\n",
              "      <th>130</th>\n",
              "      <td>11.222222</td>\n",
              "    </tr>\n",
              "  </tbody>\n",
              "</table>\n",
              "<p>119 rows × 1 columns</p>\n",
              "</div>"
            ],
            "text/plain": [
              "                                                                                                                             score\n",
              "manufacturer                                      name                                               manufacturerNumber           \n",
              "Horizon Organic                                   Horizon174 Organic Unsalted Butter - 1lbs          14729221            -8.000000\n",
              "Ortega                                            Ortega Thick & Chunky Mild Salsa                   00G6ICL6V5KH315     -1.000000\n",
              "Unilever                                          Klondike Choco Tacos Original                      13752636            -1.000000\n",
              "Heinz North America                               Heinz Tomato Ketchup, 38oz                         13400436             0.000000\n",
              "Newman's Own, Inc.                                Newman's Own Beef & Broccoli Complete Skillet Meal 14802441             0.000000\n",
              "...                                                                                                                            ...\n",
              "Season                                            Season Seafood Sardine Fillets In Sweet & Tangy... 0066ISHKOJT9CJ6      8.000000\n",
              "Unilever                                          Ben & Jerry's Coffee, Coffee Buzzbuzzbuzz! Ice ... 15004292             8.454545\n",
              "Dreyer's Grand Ice Cream/Nestle Ice Cream Company Haagen-Dazs Gelato, Sea Salt Caramel               14936473             8.500000\n",
              "Unfi                                              Noosa Honey Yogurt                                 109078-6             9.000000\n",
              "NURTURE INC                                       Happy Tot Apple and Butternut Squash               130                 11.222222\n",
              "\n",
              "[119 rows x 1 columns]"
            ]
          },
          "metadata": {
            "tags": []
          },
          "execution_count": 40
        }
      ]
    },
    {
      "cell_type": "code",
      "metadata": {
        "id": "nY4PGqJoBwua",
        "outputId": "517853bf-2fed-41fc-f32f-03ab16124aec",
        "colab": {
          "base_uri": "https://localhost:8080/",
          "height": 316
        }
      },
      "source": [
        "import nltk\n",
        "\n",
        "nltk.download('punkt')\n",
        "nltk.download('twitter_samples')\n",
        "nltk.download('averaged_perceptron_tagger')\n",
        "nltk.download('maxent_ne_chunker')\n",
        "nltk.download('words')\n",
        "nltk.download('ieer')\n",
        "nltk.download('stopwords')"
      ],
      "execution_count": null,
      "outputs": [
        {
          "output_type": "stream",
          "text": [
            "[nltk_data] Downloading package punkt to /root/nltk_data...\n",
            "[nltk_data]   Package punkt is already up-to-date!\n",
            "[nltk_data] Downloading package twitter_samples to /root/nltk_data...\n",
            "[nltk_data]   Package twitter_samples is already up-to-date!\n",
            "[nltk_data] Downloading package averaged_perceptron_tagger to\n",
            "[nltk_data]     /root/nltk_data...\n",
            "[nltk_data]   Unzipping taggers/averaged_perceptron_tagger.zip.\n",
            "[nltk_data] Downloading package maxent_ne_chunker to\n",
            "[nltk_data]     /root/nltk_data...\n",
            "[nltk_data]   Package maxent_ne_chunker is already up-to-date!\n",
            "[nltk_data] Downloading package words to /root/nltk_data...\n",
            "[nltk_data]   Package words is already up-to-date!\n",
            "[nltk_data] Downloading package ieer to /root/nltk_data...\n",
            "[nltk_data]   Package ieer is already up-to-date!\n",
            "[nltk_data] Downloading package stopwords to /root/nltk_data...\n",
            "[nltk_data]   Package stopwords is already up-to-date!\n"
          ],
          "name": "stdout"
        },
        {
          "output_type": "execute_result",
          "data": {
            "text/plain": [
              "True"
            ]
          },
          "metadata": {
            "tags": []
          },
          "execution_count": 49
        }
      ]
    },
    {
      "cell_type": "code",
      "metadata": {
        "id": "_ng2CLTpFb4b",
        "outputId": "ef47f131-3377-402e-fdd0-442247c31c4d",
        "colab": {
          "base_uri": "https://localhost:8080/",
          "height": 125
        }
      },
      "source": [
        "paragraph = '\"Data Science\" is a misnomer. Science, in general, is a set of methods for learning about the world. ' +\\\n",
        "'Specific sciences are the application of these methods to particular areas of study. Physics is a science: it is the study of physical phenomena.' +\\\n",
        "'Psychology is a science: it is the study of the psyche (i.e., the human mind). There is no science of data.'\n",
        "\n",
        "sentences = nltk.sent_tokenize(paragraph)\n",
        "\n",
        "sentences"
      ],
      "execution_count": null,
      "outputs": [
        {
          "output_type": "execute_result",
          "data": {
            "text/plain": [
              "['\"Data Science\" is a misnomer.',\n",
              " 'Science, in general, is a set of methods for learning about the world.',\n",
              " 'Specific sciences are the application of these methods to particular areas of study.',\n",
              " 'Physics is a science: it is the study of physical phenomena.Psychology is a science: it is the study of the psyche (i.e., the human mind).',\n",
              " 'There is no science of data.']"
            ]
          },
          "metadata": {
            "tags": []
          },
          "execution_count": 45
        }
      ]
    },
    {
      "cell_type": "code",
      "metadata": {
        "id": "7F9Ao4W0hjKy",
        "outputId": "aa168e6c-3273-4859-bdfe-26dab679fb70",
        "colab": {
          "base_uri": "https://localhost:8080/",
          "height": 125
        }
      },
      "source": [
        "from nltk.tokenize import word_tokenize\n",
        "\n",
        "for sent in sentences:\n",
        "  words = word_tokenize(sent)\n",
        "  words = [word.lower() for word in words if word.isalpha()]\n",
        "  print (words)"
      ],
      "execution_count": null,
      "outputs": [
        {
          "output_type": "stream",
          "text": [
            "['data', 'science', 'is', 'a', 'misnomer']\n",
            "['science', 'in', 'general', 'is', 'a', 'set', 'of', 'methods', 'for', 'learning', 'about', 'the', 'world']\n",
            "['specific', 'sciences', 'are', 'the', 'application', 'of', 'these', 'methods', 'to', 'particular', 'areas', 'of', 'study']\n",
            "['physics', 'is', 'a', 'science', 'it', 'is', 'the', 'study', 'of', 'physical', 'is', 'a', 'science', 'it', 'is', 'the', 'study', 'of', 'the', 'psyche', 'the', 'human', 'mind']\n",
            "['there', 'is', 'no', 'science', 'of', 'data']\n"
          ],
          "name": "stdout"
        }
      ]
    },
    {
      "cell_type": "markdown",
      "metadata": {
        "id": "AR8U946hiQfx"
      },
      "source": [
        "## Part-of-speech tagging\n",
        "\n",
        "Let's parse the words and see what parts of speech they belong to.  The abbreviations are at https://pythonprogramming.net/natural-language-toolkit-nltk-part-speech-tagging/"
      ]
    },
    {
      "cell_type": "code",
      "metadata": {
        "id": "ovR2sMO_hy5H",
        "outputId": "3dff8232-95b3-4938-977b-d270c649062b",
        "colab": {
          "base_uri": "https://localhost:8080/",
          "height": 142
        }
      },
      "source": [
        "nouns = []\n",
        "\n",
        "# Tag for parts of speech:\n",
        "for sent in sentences:\n",
        "  words = word_tokenize(sent)\n",
        "  words = [word.lower() for word in words if word.isalpha()]\n",
        "  print (nltk.pos_tag(words))\n",
        "\n",
        "  for (w,pos) in nltk.pos_tag(words):\n",
        "    if pos == 'NN' or pos == 'NNS':\n",
        "      nouns.append(w)\n",
        "\n",
        "print ('All nouns in the document:', nouns)"
      ],
      "execution_count": null,
      "outputs": [
        {
          "output_type": "stream",
          "text": [
            "[('data', 'NNS'), ('science', 'NN'), ('is', 'VBZ'), ('a', 'DT'), ('misnomer', 'NN')]\n",
            "[('science', 'NN'), ('in', 'IN'), ('general', 'JJ'), ('is', 'VBZ'), ('a', 'DT'), ('set', 'NN'), ('of', 'IN'), ('methods', 'NNS'), ('for', 'IN'), ('learning', 'VBG'), ('about', 'IN'), ('the', 'DT'), ('world', 'NN')]\n",
            "[('specific', 'JJ'), ('sciences', 'NNS'), ('are', 'VBP'), ('the', 'DT'), ('application', 'NN'), ('of', 'IN'), ('these', 'DT'), ('methods', 'NNS'), ('to', 'TO'), ('particular', 'JJ'), ('areas', 'NNS'), ('of', 'IN'), ('study', 'NN')]\n",
            "[('physics', 'NNS'), ('is', 'VBZ'), ('a', 'DT'), ('science', 'NN'), ('it', 'PRP'), ('is', 'VBZ'), ('the', 'DT'), ('study', 'NN'), ('of', 'IN'), ('physical', 'JJ'), ('is', 'VBZ'), ('a', 'DT'), ('science', 'NN'), ('it', 'PRP'), ('is', 'VBZ'), ('the', 'DT'), ('study', 'NN'), ('of', 'IN'), ('the', 'DT'), ('psyche', 'NN'), ('the', 'DT'), ('human', 'JJ'), ('mind', 'NN')]\n",
            "[('there', 'EX'), ('is', 'VBZ'), ('no', 'DT'), ('science', 'NN'), ('of', 'IN'), ('data', 'NNS')]\n",
            "All nouns in the document: ['data', 'science', 'misnomer', 'science', 'set', 'methods', 'world', 'sciences', 'application', 'methods', 'areas', 'study', 'physics', 'science', 'study', 'science', 'study', 'psyche', 'mind', 'science', 'data']\n"
          ],
          "name": "stdout"
        }
      ]
    },
    {
      "cell_type": "code",
      "metadata": {
        "id": "vy5CBXLRh998",
        "outputId": "07a2ea8a-5de3-48b6-c1fe-ebb36a869f7f",
        "colab": {
          "base_uri": "https://localhost:8080/",
          "height": 369
        }
      },
      "source": [
        "# Noun phrase = optional determiner, 0 or more adjectives, noun\n",
        "pattern = 'NP: {<DT>?(<CD>|<JJ>)*(<NN>|<NNS>|<NNP>|<NNPS>)+}'\n",
        "\n",
        "# Example sentence.  BERT and ERNIE are now neural net models, not just\n",
        "# Sesame Street characters\n",
        "sent = 'Bert and Ernie are two Muppets who appear together in numerous skits on the popular children\\'s television show of the United States, Sesame Street.'\n",
        "\n",
        "cp = nltk.RegexpParser(pattern)\n",
        "print(cp.parse(nltk.pos_tag(nltk.word_tokenize(sent))))\n"
      ],
      "execution_count": null,
      "outputs": [
        {
          "output_type": "stream",
          "text": [
            "(S\n",
            "  (NP Bert/NNP)\n",
            "  and/CC\n",
            "  (NP Ernie/NNP)\n",
            "  are/VBP\n",
            "  (NP two/CD Muppets/NNS)\n",
            "  who/WP\n",
            "  appear/VBP\n",
            "  together/RB\n",
            "  in/IN\n",
            "  (NP numerous/JJ skits/NNS)\n",
            "  on/IN\n",
            "  (NP the/DT popular/JJ children/NNS)\n",
            "  's/POS\n",
            "  (NP television/NN show/NN)\n",
            "  of/IN\n",
            "  (NP the/DT United/NNP States/NNPS)\n",
            "  ,/,\n",
            "  (NP Sesame/NNP Street/NNP)\n",
            "  ./.)\n"
          ],
          "name": "stdout"
        }
      ]
    },
    {
      "cell_type": "code",
      "metadata": {
        "id": "OtueOu15kiYJ"
      },
      "source": [],
      "execution_count": null,
      "outputs": []
    }
  ]
}